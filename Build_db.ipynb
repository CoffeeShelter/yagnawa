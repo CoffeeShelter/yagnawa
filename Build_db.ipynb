{
 "cells": [
  {
   "cell_type": "code",
   "execution_count": 17,
   "metadata": {},
   "outputs": [
    {
     "name": "stdout",
     "output_type": "stream",
     "text": [
      "INSERT INTO 'SOR' VALUES ('20040020002', '20040020002', '20040020002', '20040020002', '20040020002', '20040020002', '20040020002', '20040020002', '20040020002', '20040020002', '20040020002', '20040020002', '20040020002', '20040020002', '20040020002', '20040020002', '20040020002', '20040020002', '20040020002', '20040020002', '20040020002', '20040020002', '20040020002', '20040020002')\n"
     ]
    }
   ],
   "source": [
    "from db_manager import DB\n",
    "\n",
    "import requests\n",
    "import json\n",
    "\n",
    "db = DB()\n",
    "\n",
    "api_key  = \"97f136f5a8004dc382ca\"\n",
    "serviceId = \"I0030\"\n",
    "# serviceId = \"C003\"\n",
    "dataType = \"json\"\n",
    "startIdx = \"1\"\n",
    "endIdx = \"2\"\n",
    "\n",
    "api_url = \"http://openapi.foodsafetykorea.go.kr/api/{}/{}/{}/{}/{}\".format(api_key, serviceId, dataType, startIdx, endIdx)\n",
    "\n",
    "result = requests.get(api_url)\n",
    "\n",
    "json_data = json.dumps(result.json(), indent=4, ensure_ascii=False)\n",
    "json_object = json.loads(json_data)\n",
    "\n",
    "data = json_object['I0030']\n",
    "rows = data['row']\n",
    "\n",
    "for row in rows:\n",
    "    values = []\n",
    "    for key in row:\n",
    "        values.append(row[key])\n",
    "\n",
    "    sql = f\"INSERT INTO 'SOR' VALUES ('{row['LCNS_NO']}', '{row['BSSH_NM']}', '{row['PRDLST_REPORT_NO']}', '{row['PRDLST_NM']}', '{row['PRMS_DT']}', '{row['POG_DAYCNT']}', '{row['LCNS_NO']}', '{row['LCNS_NO']}', '{row['LCNS_NO']}', '{row['LCNS_NO']}', '{row['LCNS_NO']}', '{row['LCNS_NO']}', '{row['LCNS_NO']}', '{row['LCNS_NO']}', '{row['LCNS_NO']}', '{row['LCNS_NO']}', '{row['LCNS_NO']}', '{row['LCNS_NO']}', '{row['LCNS_NO']}', '{row['LCNS_NO']}', '{row['LCNS_NO']}', '{row['LCNS_NO']}', '{row['LCNS_NO']}', '{row['LCNS_NO']}')\"\n",
    "    print(sql)\n",
    "    break"
   ]
  }
 ],
 "metadata": {
  "interpreter": {
   "hash": "e1b160e2da96e2246d07af7c0e76b5a6487a6b6c4fcec4dce00ecfc4feb9413f"
  },
  "kernelspec": {
   "display_name": "Python 3.7.11 64-bit ('tensorflow_gpu': conda)",
   "language": "python",
   "name": "python3"
  },
  "language_info": {
   "codemirror_mode": {
    "name": "ipython",
    "version": 3
   },
   "file_extension": ".py",
   "mimetype": "text/x-python",
   "name": "python",
   "nbconvert_exporter": "python",
   "pygments_lexer": "ipython3",
   "version": "3.7.11"
  },
  "orig_nbformat": 4
 },
 "nbformat": 4,
 "nbformat_minor": 2
}
