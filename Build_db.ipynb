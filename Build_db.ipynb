{
 "cells": [
  {
   "cell_type": "code",
   "execution_count": null,
   "metadata": {},
   "outputs": [],
   "source": [
    "from db_manager import DB\n",
    "from Status_of_report_raw import Api\n",
    "\n",
    "api_key = '97f136f5a8004dc382ca'\n",
    "# service_id = 'C003'\n",
    "service_id = 'I0030'\n",
    "\n",
    "db = DB()\n",
    "api = Api(api_key)\n",
    "\n",
    "api.excute(db=db, service_id=service_id, start=1, end=999, count=10)\n"
   ]
  }
 ],
 "metadata": {
  "interpreter": {
   "hash": "e1b160e2da96e2246d07af7c0e76b5a6487a6b6c4fcec4dce00ecfc4feb9413f"
  },
  "kernelspec": {
   "display_name": "Python 3.7.11 64-bit ('tensorflow_gpu': conda)",
   "language": "python",
   "name": "python3"
  },
  "language_info": {
   "codemirror_mode": {
    "name": "ipython",
    "version": 3
   },
   "file_extension": ".py",
   "mimetype": "text/x-python",
   "name": "python",
   "nbconvert_exporter": "python",
   "pygments_lexer": "ipython3",
   "version": "3.7.11"
  },
  "orig_nbformat": 4
 },
 "nbformat": 4,
 "nbformat_minor": 2
}
