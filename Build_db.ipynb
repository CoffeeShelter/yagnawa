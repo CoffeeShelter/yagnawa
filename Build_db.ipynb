{
 "cells": [
  {
   "cell_type": "code",
   "execution_count": 1,
   "metadata": {},
   "outputs": [
    {
     "name": "stdout",
     "output_type": "stream",
     "text": [
      "1 ~ 999 완료 [걸린시간:  4.766224384307861]\n",
      "1000 ~ 1999 완료 [걸린시간:  6.25823187828064]\n",
      "2000 ~ 2999 완료 [걸린시간:  6.975639820098877]\n",
      "3000 ~ 3999 완료 [걸린시간:  11.87642788887024]\n",
      "4000 ~ 4999 완료 [걸린시간:  38.922467947006226]\n",
      "5000 ~ 5999 완료 [걸린시간:  45.53393340110779]\n",
      "6000 ~ 6999 완료 [걸린시간:  52.48654389381409]\n",
      "7000 ~ 7999 완료 [걸린시간:  59.110201835632324]\n",
      "8000 ~ 8999 완료 [걸린시간:  66.69101905822754]\n",
      "9000 ~ 9999 완료 [걸린시간:  72.23688578605652]\n",
      "10000 ~ 10999 완료 [걸린시간:  79.97381854057312]\n",
      "11000 ~ 11999 완료 [걸린시간:  86.1789002418518]\n",
      "12000 ~ 12999 완료 [걸린시간:  92.71935367584229]\n",
      "13000 ~ 13999 완료 [걸린시간:  99.29427862167358]\n",
      "14000 ~ 14999 완료 [걸린시간:  106.20459318161011]\n",
      "[DataError] : (1366, \"Incorrect string value: '\\\\xF0\\\\x9D\\\\x9B\\\\xBC-T...' for column 'STDR_STND' at row 1\")\n",
      "\n",
      "15000 ~ 15999 완료 [걸린시간:  120.22058939933777]\n",
      "[DataError] : (1406, \"Data too long for column 'CAP_RAWMTRL_NM' at row 1\")\n",
      "\n",
      "16000 ~ 16999 완료 [걸린시간:  128.77723002433777]\n",
      "[DataError] : (1406, \"Data too long for column 'CAP_RAWMTRL_NM' at row 1\")\n",
      "\n",
      "17000 ~ 17999 완료 [걸린시간:  135.8316535949707]\n",
      "18000 ~ 18999 완료 [걸린시간:  142.63713812828064]\n",
      "19000 ~ 19999 완료 [걸린시간:  148.57431530952454]\n",
      "20000 ~ 20999 완료 [걸린시간:  156.57963824272156]\n",
      "21000 ~ 21999 완료 [걸린시간:  160.9639494419098]\n",
      "22000 ~ 22999 완료 [걸린시간:  167.18515610694885]\n",
      "23000 ~ 23999 완료 [걸린시간:  173.39454531669617]\n",
      "24000 ~ 24999 완료 [걸린시간:  182.383442401886]\n",
      "25000 ~ 25999 완료 [걸린시간:  190.92879986763]\n",
      "26000 ~ 26999 완료 [걸린시간:  192.39175248146057]\n",
      "[DataError] : (1366, \"Incorrect string value: '\\\\xF0\\\\x9D\\\\x9D\\\\xB0-T...' for column 'STDR_STND' at row 1\")\n",
      "\n",
      "27000 ~ 27999 완료 [걸린시간:  197.96991157531738]\n",
      "28000 ~ 28999 완료 [걸린시간:  204.00707149505615]\n",
      "29000 ~ 29999 완료 [걸린시간:  208.90788459777832]\n"
     ]
    }
   ],
   "source": [
    "from db_manager import DB\n",
    "from Api import Api\n",
    "\n",
    "api_key = '97f136f5a8004dc382ca'\n",
    "# service_id = 'C003'\n",
    "service_id = 'I0030'\n",
    "\n",
    "db = DB()\n",
    "api = Api(api_key)\n",
    "\n",
    "# api.excute(db=db, service_id=service_id, start=1, end=999, count=1000)\n",
    "api.excute(db=db, service_id=service_id, start=1, end=999, count=1000)\n"
   ]
  }
 ],
 "metadata": {
  "interpreter": {
   "hash": "e1b160e2da96e2246d07af7c0e76b5a6487a6b6c4fcec4dce00ecfc4feb9413f"
  },
  "kernelspec": {
   "display_name": "Python 3.7.11 64-bit ('tensorflow_gpu': conda)",
   "language": "python",
   "name": "python3"
  },
  "language_info": {
   "codemirror_mode": {
    "name": "ipython",
    "version": 3
   },
   "file_extension": ".py",
   "mimetype": "text/x-python",
   "name": "python",
   "nbconvert_exporter": "python",
   "pygments_lexer": "ipython3",
   "version": "3.7.10"
  },
  "orig_nbformat": 4
 },
 "nbformat": 4,
 "nbformat_minor": 2
}
