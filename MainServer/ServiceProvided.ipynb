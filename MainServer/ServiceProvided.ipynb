{
 "cells": [
  {
   "cell_type": "code",
   "execution_count": null,
   "metadata": {},
   "outputs": [],
   "source": [
    "import pandas as pd\n",
    "from nutrient import Nutrient\n",
    "\n",
    "\n",
    "class ServiceProvided:\n",
    "    def __init__(self):\n",
    "        pass\n",
    "\n",
    "    @staticmethod\n",
    "    def convertInformation(data: tuple) -> pd.DataFrame:\n",
    "        dataFrame = pd.DataFrame([data])\n",
    "        return dataFrame\n",
    "\n",
    "\n",
    "nutrient = Nutrient()\n",
    "nutrient.connectDatabase()\n",
    "nutrient.createCursor()\n",
    "result = nutrient.getProductInfo('201100200015')\\\n",
    "\n",
    "data = ServiceProvided.convertInformation(data=result)\n",
    "# data"
   ]
  },
  {
   "cell_type": "code",
   "execution_count": null,
   "metadata": {},
   "outputs": [],
   "source": [
    "from Product import Product\n",
    "import json\n",
    "\n",
    "product = Product()\n",
    "product.setProduct(\n",
    "    data.loc[0]['PRDLST_NM'],\n",
    "    data.loc[0]['BSSH_NM'],\n",
    "    data.loc[0]['PRIMARY_FNCLTY'],\n",
    "    data.loc[0]['STDR_STND']\n",
    ")\n",
    "\n",
    "jsonString = json.dumps(product.__dict__, ensure_ascii=False, indent=4)\n",
    "print(jsonString)"
   ]
  },
  {
   "cell_type": "code",
   "execution_count": null,
   "metadata": {},
   "outputs": [],
   "source": [
    "from flask import Flask, request, jsonify\n",
    "from nutrient import Nutrient\n",
    "\n",
    "import nutrient\n",
    "import pandas as pd\n",
    "\n",
    "app = Flask(__name__)\n",
    "\n",
    "@app.route('/products/<productName>', methods=['GET'])\n",
    "def getProducts(productName):\n",
    "    nutrient = Nutrient()\n",
    "    nutrient.connectDatabase()\n",
    "    nutrient.createCursor()\n",
    "    result = nutrient.getProductsInfo(productName)\n",
    "\n",
    "    result = pd.DataFrame(result)\n",
    "\n",
    "    result = result.to_json(orient='records')\n",
    "\n",
    "    response = app.response_class(\n",
    "        # response=result,\n",
    "        response=jsonString,\n",
    "        mimetype='application/json',\n",
    "    )\n",
    "\n",
    "    response.headers['Access-Control-Allow-Origin'] = '*'\n",
    "    response.headers['Content-Type'] = 'application/json'\n",
    "    response.headers['charset'] = 'utf-8'\n",
    "\n",
    "    return response\n",
    "\n",
    "\n",
    "if __name__ == \"__main__\":\n",
    "    app.run(\n",
    "        host='0.0.0.0'\n",
    "    )\n",
    "\n",
    "# image = Image.open(filePath)\n",
    "# image_np = load_image_into_numpy_array(image)\n"
   ]
  },
  {
   "cell_type": "code",
   "execution_count": null,
   "metadata": {},
   "outputs": [],
   "source": [
    "from base64 import decode\n",
    "\n",
    "s = \"①\".encode('utf-8').hex()\n",
    "\n",
    "s = \"②\".encode('utf-8').hex()\n",
    "\n",
    "s = \"⑤\".encode('utf-8').hex()\n",
    "\n",
    "if int(s, 16) >= int('e291a0', 16) and int(s, 16) <= int('e291a4', 16):\n",
    "    print(\"success\")\n",
    "\n",
    "print(bytes.fromhex('e291a9').decode('utf-8'))\n",
    "\n",
    "print((int('e291a0', 16)))\n",
    "print((int('e291a0', 16) + 1))\n",
    "print(str(int('e291a0', 16) + 1).encode('utf-8').hex())"
   ]
  },
  {
   "cell_type": "code",
   "execution_count": null,
   "metadata": {},
   "outputs": [],
   "source": [
    "x = '①면역력 증진②피로개선③혈소판 응집 억제를 통한 혈액흐름에 도움④기억력 개선⑤항산화에 도움을 줄 수 있음'\n",
    "\n"
   ]
  },
  {
   "cell_type": "code",
   "execution_count": 9,
   "metadata": {},
   "outputs": [
    {
     "name": "stdout",
     "output_type": "stream",
     "text": [
      " * Serving Flask app '__main__' (lazy loading)\n",
      " * Environment: production\n",
      "\u001b[31m   WARNING: This is a development server. Do not use it in a production deployment.\u001b[0m\n",
      "\u001b[2m   Use a production WSGI server instead.\u001b[0m\n",
      " * Debug mode: off\n"
     ]
    },
    {
     "name": "stderr",
     "output_type": "stream",
     "text": [
      " * Running on http://127.0.0.1:5000/ (Press CTRL+C to quit)\n",
      "127.0.0.1 - - [16/Aug/2022 17:42:35] \"POST /multiple-files-upload HTTP/1.1\" 201 -\n"
     ]
    },
    {
     "name": "stdout",
     "output_type": "stream",
     "text": [
      "(600, 600)\n"
     ]
    }
   ],
   "source": [
    "import os\n",
    "import urllib.request\n",
    "\n",
    "from flask import Flask, request, redirect, jsonify\n",
    "from werkzeug.utils import secure_filename\n",
    "\n",
    "from flask import Flask\n",
    "from flask_cors import CORS\n",
    "\n",
    "from PIL import Image\n",
    "\n",
    "UPLOAD_FOLDER = './uploads'\n",
    "\n",
    "app = Flask(__name__)\n",
    "\n",
    "CORS(app, resources={r'*': {'origins': '*'}})\n",
    "\n",
    "#app.secret_key = \"secret key\"\n",
    "app.config['UPLOAD_FOLDER'] = UPLOAD_FOLDER\n",
    "app.config['MAX_CONTENT_LENGTH'] = 16 * 1024 * 1024\n",
    "\n",
    "ALLOWED_EXTENSIONS = set(['txt', 'pdf', 'png', 'jpg', 'jpeg', 'gif'])\n",
    "\n",
    "\n",
    "\n",
    "def allowed_file(filename):\n",
    "\treturn '.' in filename and filename.rsplit('.', 1)[1].lower() in ALLOWED_EXTENSIONS\n",
    "\n",
    "@app.route('/multiple-files-upload', methods=['POST'])\n",
    "def upload_file():\n",
    "    # check if the post request has the file part\n",
    "    if 'files[]' not in request.files:\n",
    "        resp = jsonify({'message' : 'No file part in the request'})\n",
    "        resp.status_code = 400\n",
    "        return resp\n",
    "\t\n",
    "    files = request.files.getlist('files[]')\n",
    "\n",
    "    errors = {}\n",
    "    success = False\n",
    "\t\n",
    "    for file in files:\t\t\n",
    "        if file and allowed_file(file.filename):\n",
    "            filename = secure_filename(file.filename)\n",
    "            file.save(os.path.join(app.config['UPLOAD_FOLDER'], filename))\n",
    "            success = True\n",
    "            image = Image.open(file)\n",
    "            print(image.size)\n",
    "            image = image.convert('L')\n",
    "            image.save('output.png')\n",
    "        else:\n",
    "            errors[file.filename] = 'File type is not allowed'\n",
    "\t\n",
    "    if success and errors:\n",
    "        errors['message'] = 'File(s) successfully uploaded'\n",
    "        resp = jsonify(errors)\n",
    "        resp.status_code = 500\n",
    "        return resp\n",
    "    if success:\n",
    "        resp = jsonify({'message' : 'Files successfully uploaded'})\n",
    "        resp.status_code = 201\n",
    "        return resp\n",
    "    else:\n",
    "        resp = jsonify(errors)\n",
    "        resp.status_code = 500\n",
    "        return resp\n",
    "\n",
    "\n",
    "if __name__ == \"__main__\":\n",
    "    app.run()"
   ]
  }
 ],
 "metadata": {
  "kernelspec": {
   "display_name": "Python 3.7.11 ('tensorflow_gpu')",
   "language": "python",
   "name": "python3"
  },
  "language_info": {
   "codemirror_mode": {
    "name": "ipython",
    "version": 3
   },
   "file_extension": ".py",
   "mimetype": "text/x-python",
   "name": "python",
   "nbconvert_exporter": "python",
   "pygments_lexer": "ipython3",
   "version": "3.7.11"
  },
  "orig_nbformat": 4,
  "vscode": {
   "interpreter": {
    "hash": "39888ac74ba5b1cf985b56c33706854ad2b26ded367b730a9d6298cc2d1a5f02"
   }
  }
 },
 "nbformat": 4,
 "nbformat_minor": 2
}
