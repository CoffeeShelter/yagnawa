{
 "cells": [
  {
   "cell_type": "code",
   "execution_count": 1,
   "metadata": {},
   "outputs": [
    {
     "name": "stdout",
     "output_type": "stream",
     "text": [
      "[sql]: SELECT * FROM sor WHERE PRDLST_REPORT_NO = '2009001600138'\n",
      "{\"productCode\": \"2009001600138\", \"productName\": \"6년근 고려홍삼 골드스틱\", \"componyName\": \"농업회사법인(주)힐링팜\", \"functionally\": [\"①면역력 증진·피로개선에 도움을 줄 수 있음\", \"②혈소판 응집억제를 통한 혈액흐름·기억력 개선·항산화에 도움을 줄 수 있음\"], \"contents\": \"1. 성상 : 이미, 이취가 없고 고유의 향미가 있는 암갈색의 액상\\n2. 진세노사이드Rg1,Rb1,Rg3의 합계 : 표시량(5mg/10g)의 80%이상\\n3. 세균수 : 100이하(ml 당)\\n4. 대장균군 : 음성\"}\n"
     ]
    }
   ],
   "source": [
    "from ServiceProvided import *\n",
    "from nutrient import *\n",
    "import json\n",
    "\n",
    "nutrient = Nutrient()\n",
    "nutrient.connectDatabase()\n",
    "nutrient.createCursor()\n",
    "\n",
    "result = nutrient.getProductInfo('2009001600138')\n",
    "data = ServiceProvided.convertInformation(data=result, only=True)\n",
    "\n",
    "print(data)"
   ]
  }
 ],
 "metadata": {
  "kernelspec": {
   "display_name": "Python 3.7.10 ('certificationMark_detection')",
   "language": "python",
   "name": "python3"
  },
  "language_info": {
   "codemirror_mode": {
    "name": "ipython",
    "version": 3
   },
   "file_extension": ".py",
   "mimetype": "text/x-python",
   "name": "python",
   "nbconvert_exporter": "python",
   "pygments_lexer": "ipython3",
   "version": "3.7.10"
  },
  "orig_nbformat": 4,
  "vscode": {
   "interpreter": {
    "hash": "a2c3bd8b4a5923945b1f24fa2d03dd5900e6de05edfce5f92457aa81057c51a5"
   }
  }
 },
 "nbformat": 4,
 "nbformat_minor": 2
}
