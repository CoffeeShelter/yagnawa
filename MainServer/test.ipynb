{
 "cells": [
  {
   "cell_type": "code",
   "execution_count": 8,
   "metadata": {},
   "outputs": [
    {
     "name": "stdout",
     "output_type": "stream",
     "text": [
      "(1400, 2901, 3)\n",
      "(1400, 2901, 3)\n",
      "(1400, 1400, 3)\n"
     ]
    }
   ],
   "source": [
    "from Certified_Mark_Detection_Program import *\n",
    "import cv2\n",
    "\n",
    "MAX_SIZE = 1400\n",
    "\n",
    "testImage = cv2.imread('test_2.png')\n",
    "\n",
    "print(testImage.shape)\n",
    "\n",
    "height, width, channel = testImage.shape\n",
    "if height > MAX_SIZE:\n",
    "    testImage = cv2.resize(testImage, (width, MAX_SIZE), interpolation=cv2.INTER_AREA) \n",
    "print(testImage.shape)\n",
    "\n",
    "height, width, channel = testImage.shape\n",
    "if width > MAX_SIZE:\n",
    "    testImage = cv2.resize(testImage, (MAX_SIZE, height), interpolation=cv2.INTER_AREA) \n",
    "\n",
    "print(testImage.shape)\n",
    "\n",
    "cv2.imshow('test', testImage)\n",
    "cv2.waitKey()\n",
    "cv2.destroyAllWindows()"
   ]
  }
 ],
 "metadata": {
  "kernelspec": {
   "display_name": "Python 3.7.11 ('tensorflow_gpu')",
   "language": "python",
   "name": "python3"
  },
  "language_info": {
   "codemirror_mode": {
    "name": "ipython",
    "version": 3
   },
   "file_extension": ".py",
   "mimetype": "text/x-python",
   "name": "python",
   "nbconvert_exporter": "python",
   "pygments_lexer": "ipython3",
   "version": "3.7.11"
  },
  "orig_nbformat": 4,
  "vscode": {
   "interpreter": {
    "hash": "39888ac74ba5b1cf985b56c33706854ad2b26ded367b730a9d6298cc2d1a5f02"
   }
  }
 },
 "nbformat": 4,
 "nbformat_minor": 2
}
