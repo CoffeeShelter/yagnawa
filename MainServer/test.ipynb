{
 "cells": [
  {
   "cell_type": "code",
   "execution_count": null,
   "metadata": {},
   "outputs": [],
   "source": [
    "import nutrient\n",
    "import pandas as pd\n",
    "\n",
    "nutrient = nutrient.Nutrient()\n",
    "nutrient.connectDatabase()\n",
    "nutrient.createCursor()\n",
    "result = nutrient.getProductInfo(\"힘내\")\n",
    "result = pd.DataFrame(result)\n",
    "\n",
    "result = result.to_json(orient='records')"
   ]
  }
 ],
 "metadata": {
  "kernelspec": {
   "display_name": "Python 3.7.10 ('certificationMark_detection')",
   "language": "python",
   "name": "python3"
  },
  "language_info": {
   "codemirror_mode": {
    "name": "ipython",
    "version": 3
   },
   "file_extension": ".py",
   "mimetype": "text/x-python",
   "name": "python",
   "nbconvert_exporter": "python",
   "pygments_lexer": "ipython3",
   "version": "3.7.10"
  },
  "orig_nbformat": 4,
  "vscode": {
   "interpreter": {
    "hash": "a2c3bd8b4a5923945b1f24fa2d03dd5900e6de05edfce5f92457aa81057c51a5"
   }
  }
 },
 "nbformat": 4,
 "nbformat_minor": 2
}
