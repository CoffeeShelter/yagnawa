{
 "cells": [
  {
   "cell_type": "code",
   "execution_count": 4,
   "metadata": {},
   "outputs": [
    {
     "name": "stdout",
     "output_type": "stream",
     "text": [
      "<generator object <genexpr> at 0x000001FF8FE357C8>\n"
     ]
    }
   ],
   "source": [
    "temp = ['안녕','클레오','파트라','세상에서']\n",
    "\n",
    "s = \"{}\".format(v for v in temp)\n",
    "\n",
    "print(s)"
   ]
  }
 ],
 "metadata": {
  "interpreter": {
   "hash": "e1b160e2da96e2246d07af7c0e76b5a6487a6b6c4fcec4dce00ecfc4feb9413f"
  },
  "kernelspec": {
   "display_name": "Python 3.7.11 64-bit ('tensorflow_gpu': conda)",
   "language": "python",
   "name": "python3"
  },
  "language_info": {
   "codemirror_mode": {
    "name": "ipython",
    "version": 3
   },
   "file_extension": ".py",
   "mimetype": "text/x-python",
   "name": "python",
   "nbconvert_exporter": "python",
   "pygments_lexer": "ipython3",
   "version": "3.7.11"
  },
  "orig_nbformat": 4
 },
 "nbformat": 4,
 "nbformat_minor": 2
}
